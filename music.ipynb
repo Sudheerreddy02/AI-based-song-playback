{
 "cells": [
  {
   "cell_type": "code",
   "execution_count": 1,
   "id": "a57780fa",
   "metadata": {},
   "outputs": [],
   "source": [
    "import torch\n",
    "import torchvision\n",
    "import torch.nn as nn\n",
    "import torchvision.datasets as datasets\n",
    "\n",
    "\n",
    "from torch.utils.data import DataLoader\n",
    "import numpy as np\n",
    "import matplotlib.pyplot as plt\n",
    "import torch.nn.functional as F\n",
    "\n",
    "import torchvision.transforms as transform\n",
    "from facenet_pytorch import MTCNN\n",
    "\n",
    "from PIL import Image \n",
    "import cv2\n",
    "import time\n",
    "\n",
    "from playsound import playsound"
   ]
  },
  {
   "cell_type": "code",
   "execution_count": 2,
   "id": "fa66cf04",
   "metadata": {},
   "outputs": [],
   "source": [
    "class one(nn.Module):\n",
    "    def __init__(self):\n",
    "        super().__init__()\n",
    "        self.c1=nn.Conv2d(1,10,kernel_size=(3,3),stride=1,padding=1)\n",
    "        self.r=nn.ReLU()\n",
    "        self.m=nn.MaxPool2d((2,2))\n",
    "        self.b1=nn.BatchNorm2d(10)\n",
    "        \n",
    "        \n",
    "        \n",
    "        self.c2=nn.Conv2d(10,25,kernel_size=(3,3),stride=1,padding=1)\n",
    "        self.b2=nn.BatchNorm2d(25)\n",
    "        \n",
    "        \n",
    "        self.c3=nn.Conv2d(25,100,kernel_size=(3,3),stride=1,padding=1)\n",
    "        self.b3=nn.BatchNorm2d(100)\n",
    "        \n",
    "        \n",
    "        self.c4=nn.Conv2d(100,250,kernel_size=(3,3),stride=1,padding=1)\n",
    "        \n",
    "        self.l=nn.Linear(250*3*3,100)\n",
    "        self.l2=nn.Linear(100,7)\n",
    "    def forward(self,x):\n",
    "        self.out=self.c1(x)\n",
    "        self.out=self.b1(self.out)\n",
    "        self.out=self.r(self.out)\n",
    "        self.out=self.m(self.out)\n",
    "        \n",
    "        self.out=self.c2(self.out)\n",
    "        self.out=self.b2(self.out)\n",
    "        self.out=self.r(self.out)\n",
    "        self.out=self.m(self.out)\n",
    "        \n",
    "        self.out=self.c3(self.out)\n",
    "        self.out=self.b3(self.out)\n",
    "        self.out=self.r(self.out)\n",
    "        self.out=self.m(self.out)\n",
    "        \n",
    "        self.out=self.c4(self.out)\n",
    "        self.out=self.r(self.out)\n",
    "        self.out=self.m(self.out)\n",
    "       \n",
    "        self.out=self.out.view(-1,3*3*250)\n",
    "        self.out=self.l(self.out)\n",
    "        self.out=self.l2(self.out)\n",
    "        return self.out"
   ]
  },
  {
   "cell_type": "code",
   "execution_count": 3,
   "id": "253c68d5",
   "metadata": {},
   "outputs": [],
   "source": [
    "model=one()"
   ]
  },
  {
   "cell_type": "code",
   "execution_count": 4,
   "id": "2ab1ed3f",
   "metadata": {},
   "outputs": [],
   "source": [
    "model=torch.load(\"D:\\\\expression.pt\",map_location=torch.device('cpu'))"
   ]
  },
  {
   "cell_type": "code",
   "execution_count": 5,
   "id": "55abbd1f",
   "metadata": {},
   "outputs": [],
   "source": [
    "dic2={0:\"You look Angry\",1:\"You look disgust\",2:\"you look fear\",3:\"You look Happy\",4:\"You look Neutral\",5:\"You look Sad\",6:\"You look Suprise\"}"
   ]
  },
  {
   "cell_type": "code",
   "execution_count": 6,
   "id": "28131332",
   "metadata": {},
   "outputs": [],
   "source": [
    "transform=transform.Compose([transform.ToTensor(),transform.Grayscale(),transform.Resize((48,48))])"
   ]
  },
  {
   "cell_type": "code",
   "execution_count": 7,
   "id": "bb92c113",
   "metadata": {},
   "outputs": [],
   "source": [
    "def angry():\n",
    "    print(\"Playing angry music ...\")\n",
    "    playsound(r\"C:\\\\Users\\\\kashy\\\\Downloads\\\\Mist_Decision_To_Leave.mp3\")\n",
    "    \n",
    "def disgust():\n",
    "    print(\"Playing disgust music ...\")\n",
    "    playsound(r\"C:\\\\Users\\\\kashy\\\\Downloads\\\\I_Tuoi_Fiori_Etta_Scollo_Bad_guy.mp3\")\n",
    "    \n",
    "def fear():\n",
    "    print(\"Playing fear music ...\")\n",
    "    playsound(r\"C:\\\\Users\\\\kashy\\\\Downloads\\\\Overcoming_fear.mp3\")\n",
    "    \n",
    "def happy():\n",
    "    print(\"Playing happy music ...\")\n",
    "    playsound(r\"C:\\\\Users\\\\kashy\\\\Downloads\\\\happy-african-village-69.mp3\")\n",
    "    \n",
    "def neutral():\n",
    "    print(\"Playing neutral music ...\")\n",
    "    playsound(r\"C:\\\\Users\\\\kashy\\\\Downloads\\\\_Siboney_In_the_mood_for_love.mp3\")\n",
    "def sad():\n",
    "    print(\"Playing sad music ...\")\n",
    "    playsound(r\"C:\\\\Users\\\\kashy\\\\Downloads\\\\In The Mood For Love  Yumejis Theme.mp3\")\n",
    "def surprise():\n",
    "    print(\"Playing surprise music ...\")\n",
    "    playsound(r\"C:\\\\Users\\\\kashy\\\\Downloads\\\\Potrait_of_lady_on_fire.mp3\")"
   ]
  },
  {
   "cell_type": "code",
   "execution_count": null,
   "id": "d5912a7b",
   "metadata": {},
   "outputs": [
    {
     "name": "stdout",
     "output_type": "stream",
     "text": [
      "You look Happy\n",
      "Playing happy music ...\n"
     ]
    }
   ],
   "source": [
    "vid=cv2.VideoCapture(0)\n",
    "mtcnn=MTCNN()\n",
    "flag=0\n",
    "index=-1\n",
    "t=time.time()\n",
    "while True:\n",
    "    \n",
    "    _,frame=vid.read()\n",
    "    rgb=cv2.cvtColor(frame,cv2.COLOR_BGR2RGB)\n",
    "    image = Image.fromarray(rgb)\n",
    "    b=mtcnn.detect(image)\n",
    "    if type(b[0]) != type(None) and flag==0 and time.time()-t>=3:\n",
    "        flag=1\n",
    "        b=b[0][0]\n",
    "        y1,x2,y2,x1=int(b[0]),int(b[1]),int(b[2]),int(b[3])\n",
    "        img1=image.crop((y1,x2,y2,x1))\n",
    "        image_tensor=transform(img1).float()\n",
    "        image_tensor=image_tensor.unsqueeze_(0)\n",
    "        input=torch.autograd.Variable(image_tensor)\n",
    "        o=model(input)\n",
    "        index=o.cpu().data.numpy().argmax()\n",
    "    if index!=-1 and flag==1:\n",
    "        print(dic2[index])\n",
    "        \n",
    "        break\n",
    "#         flag=2\n",
    "    cv2.imshow(\"one\",frame)\n",
    "    if cv2.waitKey(1)==27:\n",
    "        break\n",
    "vid.release()\n",
    "cv2.destroyAllWindows()\n",
    "if index==0:\n",
    "    angry()\n",
    "elif index==1:\n",
    "    disgust()\n",
    "elif index==2:\n",
    "    fear()\n",
    "elif index==3:\n",
    "    happy()\n",
    "elif index==4:\n",
    "    neutral()\n",
    "elif index==5:\n",
    "    sad()\n",
    "elif index==6:\n",
    "    surprise()\n",
    "\n",
    "    \n",
    "    \n",
    "    "
   ]
  },
  {
   "cell_type": "code",
   "execution_count": null,
   "id": "09d7c452",
   "metadata": {},
   "outputs": [],
   "source": []
  },
  {
   "cell_type": "code",
   "execution_count": null,
   "id": "d8dae38f",
   "metadata": {},
   "outputs": [],
   "source": []
  },
  {
   "cell_type": "code",
   "execution_count": null,
   "id": "7ee4988a",
   "metadata": {},
   "outputs": [],
   "source": []
  }
 ],
 "metadata": {
  "kernelspec": {
   "display_name": "Python 3 (ipykernel)",
   "language": "python",
   "name": "python3"
  },
  "language_info": {
   "codemirror_mode": {
    "name": "ipython",
    "version": 3
   },
   "file_extension": ".py",
   "mimetype": "text/x-python",
   "name": "python",
   "nbconvert_exporter": "python",
   "pygments_lexer": "ipython3",
   "version": "3.9.12"
  }
 },
 "nbformat": 4,
 "nbformat_minor": 5
}
